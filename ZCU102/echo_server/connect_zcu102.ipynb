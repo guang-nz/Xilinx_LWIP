{
 "cells": [
  {
   "cell_type": "code",
   "execution_count": 1,
   "id": "c9e0f255-41b0-4692-beef-f8c85222640a",
   "metadata": {},
   "outputs": [],
   "source": [
    "import socket\n",
    "client = socket.socket(socket.AF_INET, socket.SOCK_STREAM)\n",
    "\n",
    "# connect to the server; enter your server's IP and port here, as\n",
    "#  printed by the board's serial interface\n",
    "client.connect((\"192.168.1.10\", 7))\n",
    "# specify the number of bytes we're requesting from the server\n",
    "# change this as desired, several values up to 50k have been tested\n",
    "# for much more, more than two bytes would need to be used to\n",
    "#  specify length"
   ]
  },
  {
   "cell_type": "code",
   "execution_count": 2,
   "id": "be290b38-df06-4b1b-b87a-95cd46005a35",
   "metadata": {},
   "outputs": [
    {
     "name": "stdout",
     "output_type": "stream",
     "text": [
      "requesting b'\\xf4\\x01' bytes\n",
      "Received 256 bytes total, 256 in this recv\n",
      "Received 500 bytes total, 244 in this recv\n",
      "All data received matched the expected values!\n"
     ]
    }
   ],
   "source": [
    "num_bytes = 500\n",
    "\n",
    "# arbitrary packet size, max number of bytes we'll receive at once\n",
    "packet_size = 256\n",
    "\n",
    "# send two bytes representing num_bytes to request that many bytes\n",
    "# in response\n",
    "# note: little endian is important, requirement for Zynq-7000 to\n",
    "#       easily translate the sent number to an int without reordering\n",
    "print(f\"requesting {num_bytes.to_bytes(2, 'little')} bytes\")\n",
    "client.send(num_bytes.to_bytes(2, 'little'))\n",
    "\n",
    "# loop while calling recv to receive data from the client until the\n",
    "# expected number of bytes has been successfully transferred\n",
    "received = 0\n",
    "errors = 0\n",
    "while received < num_bytes:\n",
    "    data = client.recv(packet_size)\n",
    "    for d in range(len(data)):\n",
    "        expected_value = (received + d) & 0xff\n",
    "        if data[d] != expected_value:  # validate data\n",
    "            print(f\"Error, data[{d}] ({data[d]}) != {expected_value}\")\n",
    "            errors += 1\n",
    "    received += len(data)\n",
    "    print(f\"Received {received} bytes total, {len(data)} in this recv\")\n",
    "\n",
    "if errors == 0:\n",
    "    print(\"All data received matched the expected values!\")\n",
    "else:\n",
    "    print(f\"{errors} errors\")\n"
   ]
  },
  {
   "cell_type": "code",
   "execution_count": null,
   "id": "54d3184a-cd08-442d-b840-1e2d03a629c9",
   "metadata": {},
   "outputs": [],
   "source": []
  }
 ],
 "metadata": {
  "kernelspec": {
   "display_name": "Python 3 (ipykernel)",
   "language": "python",
   "name": "python3"
  },
  "language_info": {
   "codemirror_mode": {
    "name": "ipython",
    "version": 3
   },
   "file_extension": ".py",
   "mimetype": "text/x-python",
   "name": "python",
   "nbconvert_exporter": "python",
   "pygments_lexer": "ipython3",
   "version": "3.13.5"
  }
 },
 "nbformat": 4,
 "nbformat_minor": 5
}
